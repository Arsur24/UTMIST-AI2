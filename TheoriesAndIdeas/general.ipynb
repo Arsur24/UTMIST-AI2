{
 "cells": [
  {
   "metadata": {},
   "cell_type": "markdown",
   "source": "#",
   "id": "32cf1a7d56367a92"
  },
  {
   "metadata": {},
   "cell_type": "markdown",
   "source": [
    "# $\\text{AI}^2$ General Plan\n",
    "\n",
    "## Plan for the week\n",
    "26. training method working cuda + parallel training, adding visualization -> all of us\n",
    "27. build prototype reward structure -> or4ngy, braden, sophie,arthur(50/50)  8:00 pm\n",
    "28. enhancing reward structure + testing -> sophie, braden, or4ngy -> braden, or4ngy, sophie  8:10 pm\n",
    "29. test training + debugging + initiating training -> arthur (50/50), braden, or4ngy (50/50)  8:00 pm\n",
    "30. training + monitoring X\n",
    "31. observation & report or4ngy, braden, sophie, arthur workshop stay overnight\n",
    "1. training & emergent changes (NOT EXPECTED)\n",
    "2. TOURNAMENT\n",
    "\n",
    "## Roles\n",
    "Braden\n",
    "1. train the model\n",
    "2. assistance with or4ngy and sophie\n",
    "Sophie\n",
    "1. rule research\n",
    "2. partial coding\n",
    "3. research of algorithms and selecting them\n",
    "Arthur\n",
    "1. arrange documents and manage files/schedules\n",
    "2. research assistant\n",
    "Or4ngy\n",
    "1. get a life\n",
    "2. main coding part\n",
    "3. supervise the training\n",
    "4. manage meetings\n",
    "\n",
    "## Notes\n",
    "negative reward is prioritized over punishment\n",
    "ppo → proximial policy optimziation (open ai)\n",
    "on policy\n",
    "improves policy\n",
    "through small updates\n",
    "gradient clipping\n",
    "advantage function\n",
    "dqn → deep q-networks (deepmind)\n",
    "combines q-learning with deep neural networks\n",
    "off-policy\n",
    "q and target network\n",
    "experience replay\n",
    "sac → soft actor-critic (berekeley)\n",
    "off policy\n",
    "entropy regulariztion\n",
    "maximize expected reward and entropy\n",
    "\n",
    "## Ideas\n",
    "sac/off policy\n",
    "parallel training\n",
    "cuda support\n",
    "training visualization\n",
    "fast mode\n",
    "training continuation\n",
    "GUI reward system\n",
    "add more reward values\n"
   ],
   "id": "b95fd8231ea4bf2a"
  },
  {
   "metadata": {},
   "cell_type": "markdown",
   "source": "",
   "id": "36a8a235c7773066"
  }
 ],
 "metadata": {
  "kernelspec": {
   "display_name": "Python 3",
   "language": "python",
   "name": "python3"
  },
  "language_info": {
   "codemirror_mode": {
    "name": "ipython",
    "version": 2
   },
   "file_extension": ".py",
   "mimetype": "text/x-python",
   "name": "python",
   "nbconvert_exporter": "python",
   "pygments_lexer": "ipython2",
   "version": "2.7.6"
  }
 },
 "nbformat": 4,
 "nbformat_minor": 5
}
